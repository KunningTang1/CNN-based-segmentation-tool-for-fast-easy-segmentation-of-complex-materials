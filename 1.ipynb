{
 "cells": [
  {
   "cell_type": "code",
   "execution_count": 1,
   "metadata": {},
   "outputs": [
    {
     "name": "stderr",
     "output_type": "stream",
     "text": [
      "usage: ipykernel_launcher.py [-h] [--model MODEL] [--cpu_gpu CPU_GPU]\n",
      "                             [--single_fulldomain SINGLE_FULLDOMAIN]\n",
      "                             [--input INPUT] [--size SIZE]\n",
      "                             [--checkpoint CHECKPOINT] [--gpu GPU]\n",
      "                             [--dir_3D_data DIR_3D_DATA]\n",
      "                             [--dir_2D_data DIR_2D_DATA]\n",
      "                             [--dir_checkpoint DIR_CHECKPOINT]\n",
      "                             [--dir_result DIR_RESULT]\n",
      "ipykernel_launcher.py: error: unrecognized arguments: --f=/home/my2000/.local/share/jupyter/runtime/kernel-v2-900mgLg39YzK0UV.json\n"
     ]
    },
    {
     "ename": "SystemExit",
     "evalue": "2",
     "output_type": "error",
     "traceback": [
      "An exception has occurred, use %tb to see the full traceback.\n",
      "\u001b[0;31mSystemExit\u001b[0m\u001b[0;31m:\u001b[0m 2\n"
     ]
    },
    {
     "name": "stderr",
     "output_type": "stream",
     "text": [
      "/home/my2000/miniconda3/envs/automorph/lib/python3.6/site-packages/IPython/core/interactiveshell.py:3351: UserWarning: To exit: use 'exit', 'quit', or Ctrl-D.\n",
      "  warn(\"To exit: use 'exit', 'quit', or Ctrl-D.\", stacklevel=1)\n"
     ]
    }
   ],
   "source": [
    "import torch\n",
    "import torchvision.transforms as tfs\n",
    "import numpy as np\n",
    "from PIL import Image\n",
    "import matplotlib.pyplot as plt\n",
    "from model import get_efficientunet_b5\n",
    "from model import Uresnet\n",
    "from tqdm import tqdm\n",
    "import os\n",
    "import argparse\n",
    "import nibabel as nib\n",
    "from skimage import io\n",
    "from os import listdir\n",
    "import tifffile as tiff\n",
    "\n",
    "def mkdir(path):\n",
    "    folder = os.path.exists(path)\n",
    "    if not folder:\n",
    "        os.makedirs(path)\n",
    "        \n",
    "\n",
    "net = Uresnet(3,3)   \n",
    "\n",
    "checkpoint = torch.load(os.path.join(opt.dir_checkpoint, '{}.pt'.format(opt.checkpoint)))\n",
    "net.load_state_dict(checkpoint['net_state_dict'])\n",
    "if opt.cpu_gpu == 'gpu':\n",
    "    net.cuda()\n",
    "    print('============== GPU is used ===================')\n",
    "    \n",
    "net.eval()\n",
    "im_tfs = tfs.Compose([\n",
    "      tfs.ToTensor(),\n",
    "      ])    \n",
    "\n",
    "def crop(data,height=opt.size, width=opt.size):\n",
    "    st_x = 40\n",
    "    st_y = 40\n",
    "    box = (st_x, st_y, st_x+width, st_y+height)\n",
    "    data = data.crop(box)\n",
    "    return data\n",
    "\n",
    "if opt.input == \"3D\":\n",
    "    name = listdir(opt.dir_3D_data)\n",
    "    img = tiff.imread(os.path.join(opt.dir_3D_data, name[0]))\n",
    "\n",
    "    file1 = os.path.join(opt.dir_result,'raw')\n",
    "    mkdir(file1)    \n",
    "    file2 = os.path.join(opt.dir_result,'seg')\n",
    "    mkdir(file2)   \n",
    "    \n",
    "    for i in tqdm(range(img.shape[0])):\n",
    "        img_slice = img[i,:,:]\n",
    "        img_slice = Image.fromarray(img_slice)\n",
    "        img_slice = img_slice.convert('RGB')\n",
    "\n",
    "        # 将图像转换为tensor\n",
    "        img_tensor = im_tfs(img_slice).unsqueeze(0).float()\n",
    "        \n",
    "        with torch.no_grad(): \n",
    "            out = net(img_tensor.cuda())\n",
    "        \n",
    "        pred = out.max(1)[1].squeeze().data.cpu().numpy()\n",
    "        pred = np.uint8(pred)\n",
    "        pred = Image.fromarray(pred)\n",
    "\n",
    "        # 将图像保存到raw文件夹中\n",
    "        img_slice.save(os.path.join(file1, f'{i}.png'))\n",
    "        # 将预测结果保存到seg文件夹中\n",
    "        pred.save(os.path.join(file2, f'{i}.png'))\n",
    "        \n",
    "elif opt.input == \"2D\":\n",
    "    name = listdir(opt.dir_2D_data)\n",
    "    im = io.imread(os.path.join(opt.dir_2D_data, name[0]))\n",
    "\n",
    "    img2 = Image.fromarray(im)\n",
    "    img2 = crop(img2)\n",
    "    cut_image = img2.convert('RGB')\n",
    "    \n",
    "    plt.subplot(121)\n",
    "    plt.imshow(cut_image)\n",
    "    \n",
    "    cut_image1 = im_tfs(cut_image)\n",
    "    test_image1 = cut_image1.unsqueeze(0).float()\n",
    "    with torch.no_grad(): \n",
    "        out = net(test_image1.cuda())\n",
    "    pred = out.max(1)[1].squeeze().data.cpu().numpy()\n",
    "    pred = np.uint8(pred)\n",
    "    pred = Image.fromarray(pred)\n",
    "    plt.subplot(122)\n",
    "    plt.imshow(pred)\n"
   ]
  }
 ],
 "metadata": {
  "kernelspec": {
   "display_name": "automorph",
   "language": "python",
   "name": "python3"
  },
  "language_info": {
   "codemirror_mode": {
    "name": "ipython",
    "version": 3
   },
   "file_extension": ".py",
   "mimetype": "text/x-python",
   "name": "python",
   "nbconvert_exporter": "python",
   "pygments_lexer": "ipython3",
   "version": "3.6.13"
  }
 },
 "nbformat": 4,
 "nbformat_minor": 2
}
